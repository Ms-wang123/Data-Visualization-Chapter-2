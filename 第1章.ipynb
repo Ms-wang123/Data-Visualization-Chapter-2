{
 "cells": [
  {
   "cell_type": "raw",
   "metadata": {},
   "source": [
    "## 1.4  使用matplotlib绘制图表"
   ]
  },
  {
   "cell_type": "code",
   "execution_count": 1,
   "metadata": {},
   "outputs": [
    {
     "name": "stdout",
     "output_type": "stream",
     "text": [
      "Looking in indexes: https://pypi.tuna.tsinghua.edu.cn/simple\n",
      "Collecting numpy\n",
      "  Downloading https://pypi.tuna.tsinghua.edu.cn/packages/ea/2b/7fc9f4e7ae5b507c1a3a21f0f15ed03e794c1242ea8a242ac158beb56034/numpy-2.0.2-cp39-cp39-win_amd64.whl (15.9 MB)\n",
      "     ---------------------------------------- 0.0/15.9 MB ? eta -:--:--\n",
      "      --------------------------------------- 0.3/15.9 MB ? eta -:--:--\n",
      "     - -------------------------------------- 0.8/15.9 MB 2.1 MB/s eta 0:00:08\n",
      "     -- ------------------------------------- 1.0/15.9 MB 1.9 MB/s eta 0:00:08\n",
      "     --- ------------------------------------ 1.6/15.9 MB 2.0 MB/s eta 0:00:08\n",
      "     ---- ----------------------------------- 1.8/15.9 MB 2.0 MB/s eta 0:00:08\n",
      "     ----- ---------------------------------- 2.4/15.9 MB 2.0 MB/s eta 0:00:07\n",
      "     ------ --------------------------------- 2.6/15.9 MB 2.0 MB/s eta 0:00:07\n",
      "     ------- -------------------------------- 3.1/15.9 MB 2.0 MB/s eta 0:00:07\n",
      "     -------- ------------------------------- 3.4/15.9 MB 2.0 MB/s eta 0:00:07\n",
      "     --------- ------------------------------ 3.9/15.9 MB 2.0 MB/s eta 0:00:07\n",
      "     ----------- ---------------------------- 4.5/15.9 MB 2.0 MB/s eta 0:00:06\n",
      "     ----------- ---------------------------- 4.7/15.9 MB 2.0 MB/s eta 0:00:06\n",
      "     ------------- -------------------------- 5.2/15.9 MB 2.0 MB/s eta 0:00:06\n",
      "     ------------- -------------------------- 5.5/15.9 MB 2.0 MB/s eta 0:00:06\n",
      "     --------------- ------------------------ 6.0/15.9 MB 2.0 MB/s eta 0:00:06\n",
      "     --------------- ------------------------ 6.3/15.9 MB 2.0 MB/s eta 0:00:05\n",
      "     ----------------- ---------------------- 6.8/15.9 MB 2.0 MB/s eta 0:00:05\n",
      "     ------------------ --------------------- 7.3/15.9 MB 2.0 MB/s eta 0:00:05\n",
      "     ------------------- -------------------- 7.6/15.9 MB 2.0 MB/s eta 0:00:05\n",
      "     -------------------- ------------------- 8.1/15.9 MB 2.0 MB/s eta 0:00:04\n",
      "     --------------------- ------------------ 8.4/15.9 MB 2.0 MB/s eta 0:00:04\n",
      "     ---------------------- ----------------- 8.9/15.9 MB 2.0 MB/s eta 0:00:04\n",
      "     ----------------------- ---------------- 9.4/15.9 MB 2.0 MB/s eta 0:00:04\n",
      "     ------------------------ --------------- 9.7/15.9 MB 2.0 MB/s eta 0:00:04\n",
      "     ------------------------- -------------- 10.2/15.9 MB 2.0 MB/s eta 0:00:03\n",
      "     -------------------------- ------------- 10.5/15.9 MB 2.0 MB/s eta 0:00:03\n",
      "     --------------------------- ------------ 11.0/15.9 MB 2.0 MB/s eta 0:00:03\n",
      "     ---------------------------- ----------- 11.3/15.9 MB 2.0 MB/s eta 0:00:03\n",
      "     ----------------------------- ---------- 11.8/15.9 MB 2.0 MB/s eta 0:00:03\n",
      "     ------------------------------ --------- 12.1/15.9 MB 2.0 MB/s eta 0:00:02\n",
      "     ------------------------------- -------- 12.6/15.9 MB 2.0 MB/s eta 0:00:02\n",
      "     -------------------------------- ------- 13.1/15.9 MB 2.0 MB/s eta 0:00:02\n",
      "     --------------------------------- ------ 13.4/15.9 MB 2.0 MB/s eta 0:00:02\n",
      "     ---------------------------------- ----- 13.9/15.9 MB 2.0 MB/s eta 0:00:02\n",
      "     ----------------------------------- ---- 14.2/15.9 MB 2.0 MB/s eta 0:00:01\n",
      "     ------------------------------------ --- 14.7/15.9 MB 2.0 MB/s eta 0:00:01\n",
      "     ------------------------------------- -- 14.9/15.9 MB 2.0 MB/s eta 0:00:01\n",
      "     -------------------------------------- - 15.5/15.9 MB 2.0 MB/s eta 0:00:01\n",
      "     ---------------------------------------  15.7/15.9 MB 2.0 MB/s eta 0:00:01\n",
      "     ---------------------------------------  15.7/15.9 MB 2.0 MB/s eta 0:00:01\n",
      "     ---------------------------------------  15.7/15.9 MB 2.0 MB/s eta 0:00:01\n",
      "     ---------------------------------------  15.7/15.9 MB 2.0 MB/s eta 0:00:01\n",
      "     ---------------------------------------  15.7/15.9 MB 2.0 MB/s eta 0:00:01\n",
      "     ---------------------------------------- 15.9/15.9 MB 1.7 MB/s eta 0:00:00\n",
      "Installing collected packages: numpy\n",
      "Successfully installed numpy-2.0.2\n",
      "Note: you may need to restart the kernel to use updated packages.\n"
     ]
    }
   ],
   "source": [
    "pip install -i https://pypi.tuna.tsinghua.edu.cn/simple numpy"
   ]
  },
  {
   "cell_type": "code",
   "execution_count": 2,
   "metadata": {},
   "outputs": [
    {
     "name": "stdout",
     "output_type": "stream",
     "text": [
      "Requirement already satisfied: numpy in c:\\users\\30528\\miniconda3\\lib\\site-packages (2.0.2)\n",
      "Note: you may need to restart the kernel to use updated packages.\n"
     ]
    }
   ],
   "source": [
    "pip install numpy"
   ]
  },
  {
   "cell_type": "code",
   "execution_count": 3,
   "metadata": {},
   "outputs": [
    {
     "name": "stdout",
     "output_type": "stream",
     "text": [
      "Looking in indexes: https://pypi.tuna.tsinghua.edu.cn/simple\n",
      "Collecting matplotlib\n",
      "  Downloading https://pypi.tuna.tsinghua.edu.cn/packages/57/68/c2feb4667adbf882ffa4b3e0ac9967f848980d9f8b5bebd86644aa67ce6a/matplotlib-3.9.4-cp39-cp39-win_amd64.whl (7.8 MB)\n",
      "     ---------------------------------------- 0.0/7.8 MB ? eta -:--:--\n",
      "     - -------------------------------------- 0.3/7.8 MB ? eta -:--:--\n",
      "     ---- ----------------------------------- 0.8/7.8 MB 2.0 MB/s eta 0:00:04\n",
      "     ----- ---------------------------------- 1.0/7.8 MB 1.9 MB/s eta 0:00:04\n",
      "     -------- ------------------------------- 1.6/7.8 MB 2.0 MB/s eta 0:00:04\n",
      "     --------- ------------------------------ 1.8/7.8 MB 2.0 MB/s eta 0:00:04\n",
      "     ------------ --------------------------- 2.4/7.8 MB 2.0 MB/s eta 0:00:03\n",
      "     ------------- -------------------------- 2.6/7.8 MB 2.0 MB/s eta 0:00:03\n",
      "     ---------------- ----------------------- 3.1/7.8 MB 1.9 MB/s eta 0:00:03\n",
      "     ------------------ --------------------- 3.7/7.8 MB 2.0 MB/s eta 0:00:03\n",
      "     -------------------- ------------------- 3.9/7.8 MB 2.0 MB/s eta 0:00:02\n",
      "     ---------------------- ----------------- 4.5/7.8 MB 2.0 MB/s eta 0:00:02\n",
      "     ------------------------ --------------- 4.7/7.8 MB 2.0 MB/s eta 0:00:02\n",
      "     -------------------------- ------------- 5.2/7.8 MB 2.0 MB/s eta 0:00:02\n",
      "     ---------------------------- ----------- 5.5/7.8 MB 2.0 MB/s eta 0:00:02\n",
      "     ------------------------------ --------- 6.0/7.8 MB 2.0 MB/s eta 0:00:01\n",
      "     -------------------------------- ------- 6.3/7.8 MB 2.0 MB/s eta 0:00:01\n",
      "     ---------------------------------- ----- 6.8/7.8 MB 2.0 MB/s eta 0:00:01\n",
      "     ------------------------------------ --- 7.1/7.8 MB 2.0 MB/s eta 0:00:01\n",
      "     -------------------------------------- - 7.6/7.8 MB 2.0 MB/s eta 0:00:01\n",
      "     -------------------------------------- - 7.6/7.8 MB 2.0 MB/s eta 0:00:01\n",
      "     -------------------------------------- - 7.6/7.8 MB 2.0 MB/s eta 0:00:01\n",
      "     ---------------------------------------- 7.8/7.8 MB 1.8 MB/s eta 0:00:00\n",
      "Collecting contourpy>=1.0.1 (from matplotlib)\n",
      "  Downloading https://pypi.tuna.tsinghua.edu.cn/packages/53/23/db9f69676308e094d3c45f20cc52e12d10d64f027541c995d89c11ad5c75/contourpy-1.3.0-cp39-cp39-win_amd64.whl (211 kB)\n",
      "Collecting cycler>=0.10 (from matplotlib)\n",
      "  Using cached https://pypi.tuna.tsinghua.edu.cn/packages/e7/05/c19819d5e3d95294a6f5947fb9b9629efb316b96de511b418c53d245aae6/cycler-0.12.1-py3-none-any.whl (8.3 kB)\n",
      "Collecting fonttools>=4.22.0 (from matplotlib)\n",
      "  Downloading https://pypi.tuna.tsinghua.edu.cn/packages/a8/d5/32ecc101c5617019e49f5b9bbc4a698a04efde86fca493d582a1d6a0ae6f/fonttools-4.60.0-cp39-cp39-win_amd64.whl (1.5 MB)\n",
      "     ---------------------------------------- 0.0/1.5 MB ? eta -:--:--\n",
      "     ------ --------------------------------- 0.3/1.5 MB ? eta -:--:--\n",
      "     -------------------- ------------------- 0.8/1.5 MB 2.0 MB/s eta 0:00:01\n",
      "     --------------------------------- ------ 1.3/1.5 MB 2.0 MB/s eta 0:00:01\n",
      "     --------------------------------- ------ 1.3/1.5 MB 2.0 MB/s eta 0:00:01\n",
      "     ---------------------------------------- 1.5/1.5 MB 1.5 MB/s eta 0:00:00\n",
      "Collecting kiwisolver>=1.3.1 (from matplotlib)\n",
      "  Downloading https://pypi.tuna.tsinghua.edu.cn/packages/ef/17/cd10d020578764ea91740204edc6b3236ed8106228a46f568d716b11feb2/kiwisolver-1.4.7-cp39-cp39-win_amd64.whl (55 kB)\n",
      "Requirement already satisfied: numpy>=1.23 in c:\\users\\30528\\miniconda3\\lib\\site-packages (from matplotlib) (2.0.2)\n",
      "Requirement already satisfied: packaging>=20.0 in c:\\users\\30528\\miniconda3\\lib\\site-packages (from matplotlib) (25.0)\n",
      "Collecting pillow>=8 (from matplotlib)\n",
      "  Downloading https://pypi.tuna.tsinghua.edu.cn/packages/46/05/4106422f45a05716fd34ed21763f8ec182e8ea00af6e9cb05b93a247361a/pillow-11.3.0-cp39-cp39-win_amd64.whl (7.0 MB)\n",
      "     ---------------------------------------- 0.0/7.0 MB ? eta -:--:--\n",
      "     - -------------------------------------- 0.3/7.0 MB ? eta -:--:--\n",
      "     ---- ----------------------------------- 0.8/7.0 MB 2.0 MB/s eta 0:00:04\n",
      "     ------- -------------------------------- 1.3/7.0 MB 2.0 MB/s eta 0:00:03\n",
      "     --------- ------------------------------ 1.6/7.0 MB 2.0 MB/s eta 0:00:03\n",
      "     ------------ --------------------------- 2.1/7.0 MB 2.0 MB/s eta 0:00:03\n",
      "     ------------- -------------------------- 2.4/7.0 MB 1.9 MB/s eta 0:00:03\n",
      "     ---------------- ----------------------- 2.9/7.0 MB 2.0 MB/s eta 0:00:03\n",
      "     ------------------ --------------------- 3.1/7.0 MB 2.0 MB/s eta 0:00:02\n",
      "     --------------------- ------------------ 3.7/7.0 MB 2.0 MB/s eta 0:00:02\n",
      "     ---------------------- ----------------- 3.9/7.0 MB 2.0 MB/s eta 0:00:02\n",
      "     ------------------------- -------------- 4.5/7.0 MB 2.0 MB/s eta 0:00:02\n",
      "     ---------------------------- ----------- 5.0/7.0 MB 2.0 MB/s eta 0:00:02\n",
      "     ------------------------------ --------- 5.2/7.0 MB 2.0 MB/s eta 0:00:01\n",
      "     --------------------------------- ------ 5.8/7.0 MB 2.0 MB/s eta 0:00:01\n",
      "     ---------------------------------- ----- 6.0/7.0 MB 2.0 MB/s eta 0:00:01\n",
      "     ------------------------------------- -- 6.6/7.0 MB 2.0 MB/s eta 0:00:01\n",
      "     ---------------------------------------  6.8/7.0 MB 2.0 MB/s eta 0:00:01\n",
      "     ---------------------------------------- 7.0/7.0 MB 1.9 MB/s eta 0:00:00\n",
      "Collecting pyparsing>=2.3.1 (from matplotlib)\n",
      "  Downloading https://pypi.tuna.tsinghua.edu.cn/packages/10/5e/1aa9a93198c6b64513c9d7752de7422c06402de6600a8767da1524f9570b/pyparsing-3.2.5-py3-none-any.whl (113 kB)\n",
      "Requirement already satisfied: python-dateutil>=2.7 in c:\\users\\30528\\miniconda3\\lib\\site-packages (from matplotlib) (2.9.0.post0)\n",
      "Collecting importlib-resources>=3.2.0 (from matplotlib)\n",
      "  Downloading https://pypi.tuna.tsinghua.edu.cn/packages/a4/ed/1f1afb2e9e7f38a545d628f864d562a5ae64fe6f7a10e28ffb9b185b4e89/importlib_resources-6.5.2-py3-none-any.whl (37 kB)\n",
      "Requirement already satisfied: zipp>=3.1.0 in c:\\users\\30528\\miniconda3\\lib\\site-packages (from importlib-resources>=3.2.0->matplotlib) (3.21.0)\n",
      "Requirement already satisfied: six>=1.5 in c:\\users\\30528\\miniconda3\\lib\\site-packages (from python-dateutil>=2.7->matplotlib) (1.17.0)\n",
      "Installing collected packages: pyparsing, pillow, kiwisolver, importlib-resources, fonttools, cycler, contourpy, matplotlib\n",
      "\n",
      "   ----- ---------------------------------- 1/8 [pillow]\n",
      "   ----- ---------------------------------- 1/8 [pillow]\n",
      "   ----- ---------------------------------- 1/8 [pillow]\n",
      "   ----- ---------------------------------- 1/8 [pillow]\n",
      "   ----- ---------------------------------- 1/8 [pillow]\n",
      "   --------------- ------------------------ 3/8 [importlib-resources]\n",
      "   -------------------- ------------------- 4/8 [fonttools]\n",
      "   -------------------- ------------------- 4/8 [fonttools]\n",
      "   -------------------- ------------------- 4/8 [fonttools]\n",
      "   -------------------- ------------------- 4/8 [fonttools]\n",
      "   -------------------- ------------------- 4/8 [fonttools]\n",
      "   -------------------- ------------------- 4/8 [fonttools]\n",
      "   -------------------- ------------------- 4/8 [fonttools]\n",
      "   -------------------- ------------------- 4/8 [fonttools]\n",
      "   -------------------- ------------------- 4/8 [fonttools]\n",
      "   -------------------- ------------------- 4/8 [fonttools]\n",
      "   -------------------- ------------------- 4/8 [fonttools]\n",
      "   -------------------- ------------------- 4/8 [fonttools]\n",
      "   -------------------- ------------------- 4/8 [fonttools]\n",
      "   ------------------------------ --------- 6/8 [contourpy]\n",
      "   ----------------------------------- ---- 7/8 [matplotlib]\n",
      "   ----------------------------------- ---- 7/8 [matplotlib]\n",
      "   ----------------------------------- ---- 7/8 [matplotlib]\n",
      "   ----------------------------------- ---- 7/8 [matplotlib]\n",
      "   ----------------------------------- ---- 7/8 [matplotlib]\n",
      "   ----------------------------------- ---- 7/8 [matplotlib]\n",
      "   ----------------------------------- ---- 7/8 [matplotlib]\n",
      "   ----------------------------------- ---- 7/8 [matplotlib]\n",
      "   ----------------------------------- ---- 7/8 [matplotlib]\n",
      "   ----------------------------------- ---- 7/8 [matplotlib]\n",
      "   ----------------------------------- ---- 7/8 [matplotlib]\n",
      "   ----------------------------------- ---- 7/8 [matplotlib]\n",
      "   ----------------------------------- ---- 7/8 [matplotlib]\n",
      "   ----------------------------------- ---- 7/8 [matplotlib]\n",
      "   ----------------------------------- ---- 7/8 [matplotlib]\n",
      "   ----------------------------------- ---- 7/8 [matplotlib]\n",
      "   ----------------------------------- ---- 7/8 [matplotlib]\n",
      "   ----------------------------------- ---- 7/8 [matplotlib]\n",
      "   ----------------------------------- ---- 7/8 [matplotlib]\n",
      "   ---------------------------------------- 8/8 [matplotlib]\n",
      "\n",
      "Successfully installed contourpy-1.3.0 cycler-0.12.1 fonttools-4.60.0 importlib-resources-6.5.2 kiwisolver-1.4.7 matplotlib-3.9.4 pillow-11.3.0 pyparsing-3.2.5\n",
      "Note: you may need to restart the kernel to use updated packages.\n"
     ]
    }
   ],
   "source": [
    "pip install -i https://pypi.tuna.tsinghua.edu.cn/simple matplotlib"
   ]
  },
  {
   "cell_type": "code",
   "execution_count": 4,
   "metadata": {},
   "outputs": [
    {
     "name": "stdout",
     "output_type": "stream",
     "text": [
      "Requirement already satisfied: matplotlib in c:\\users\\30528\\miniconda3\\lib\\site-packages (3.9.4)\n",
      "Requirement already satisfied: contourpy>=1.0.1 in c:\\users\\30528\\miniconda3\\lib\\site-packages (from matplotlib) (1.3.0)\n",
      "Requirement already satisfied: cycler>=0.10 in c:\\users\\30528\\miniconda3\\lib\\site-packages (from matplotlib) (0.12.1)\n",
      "Requirement already satisfied: fonttools>=4.22.0 in c:\\users\\30528\\miniconda3\\lib\\site-packages (from matplotlib) (4.60.0)\n",
      "Requirement already satisfied: kiwisolver>=1.3.1 in c:\\users\\30528\\miniconda3\\lib\\site-packages (from matplotlib) (1.4.7)\n",
      "Requirement already satisfied: numpy>=1.23 in c:\\users\\30528\\miniconda3\\lib\\site-packages (from matplotlib) (2.0.2)\n",
      "Requirement already satisfied: packaging>=20.0 in c:\\users\\30528\\miniconda3\\lib\\site-packages (from matplotlib) (25.0)\n",
      "Requirement already satisfied: pillow>=8 in c:\\users\\30528\\miniconda3\\lib\\site-packages (from matplotlib) (11.3.0)\n",
      "Requirement already satisfied: pyparsing>=2.3.1 in c:\\users\\30528\\miniconda3\\lib\\site-packages (from matplotlib) (3.2.5)\n",
      "Requirement already satisfied: python-dateutil>=2.7 in c:\\users\\30528\\miniconda3\\lib\\site-packages (from matplotlib) (2.9.0.post0)\n",
      "Requirement already satisfied: importlib-resources>=3.2.0 in c:\\users\\30528\\miniconda3\\lib\\site-packages (from matplotlib) (6.5.2)\n",
      "Requirement already satisfied: zipp>=3.1.0 in c:\\users\\30528\\miniconda3\\lib\\site-packages (from importlib-resources>=3.2.0->matplotlib) (3.21.0)\n",
      "Requirement already satisfied: six>=1.5 in c:\\users\\30528\\miniconda3\\lib\\site-packages (from python-dateutil>=2.7->matplotlib) (1.17.0)\n",
      "Note: you may need to restart the kernel to use updated packages.\n"
     ]
    }
   ],
   "source": [
    "pip install matplotlib"
   ]
  },
  {
   "cell_type": "code",
   "execution_count": 5,
   "metadata": {},
   "outputs": [
    {
     "data": {
      "image/png": "[encoded data removed]",
      "text/plain": [
       "<Figure size 640x480 with 1 Axes>"
      ]
     },
     "metadata": {},
     "output_type": "display_data"
    }
   ],
   "source": [
    "import numpy as np\n",
    "import matplotlib.pyplot as plt\n",
    "data = np.array([1, 2, 3, 4, 5])        # 准备数据\n",
    "fig = plt.figure()                      #  创建代表画布的Figure 类的对象fig\n",
    "ax = fig.add_subplot(223)               # 在画布fig上添加坐标系风格的绘图区域ax\n",
    "ax.plot(data)                           #  绘制图表\n",
    "plt.show()                              #  展示图表"
   ]
  },
  {
   "cell_type": "code",
   "execution_count": 6,
   "metadata": {},
   "outputs": [
    {
     "data": {
      "image/png": "[encoded data removed]",
      "text/plain": [
       "<Figure size 640x480 with 1 Axes>"
      ]
     },
     "metadata": {},
     "output_type": "display_data"
    }
   ],
   "source": [
    "import numpy as np\n",
    "import matplotlib.pyplot as plt     # 导入 pyplot 模块\n",
    "data = np.array([1, 2, 3, 4, 5])     # 准备数据\n",
    "plt.plot(data)                       # 在当前画布的绘图区域中绘制图表\n",
    "plt.show()                           # 展示图表"
   ]
  },
  {
   "cell_type": "code",
   "execution_count": null,
   "metadata": {},
   "outputs": [],
   "source": []
  },
  {
   "cell_type": "code",
   "execution_count": null,
   "metadata": {},
   "outputs": [],
   "source": []
  }
 ],
 "metadata": {
  "kernelspec": {
   "display_name": "Python 3 (ipykernel)",
   "language": "python",
   "name": "python3"
  },
  "language_info": {
   "codemirror_mode": {
    "name": "ipython",
    "version": 3
   },
   "file_extension": ".py",
   "mimetype": "text/x-python",
   "name": "python",
   "nbconvert_exporter": "python",
   "pygments_lexer": "ipython3",
   "version": "3.9.23"
  },
  "varInspector": {
   "cols": {
    "lenName": 16,
    "lenType": 16,
    "lenVar": 40
   },
   "kernels_config": {
    "python": {
     "delete_cmd_postfix": "",
     "delete_cmd_prefix": "del ",
     "library": "var_list.py",
     "varRefreshCmd": "print(var_dic_list())"
    },
    "r": {
     "delete_cmd_postfix": ") ",
     "delete_cmd_prefix": "rm(",
     "library": "var_list.r",
     "varRefreshCmd": "cat(var_dic_list()) "
    }
   },
   "types_to_exclude": [
    "module",
    "function",
    "builtin_function_or_method",
    "instance",
    "_Feature"
   ],
   "window_display": false
  }
 },
 "nbformat": 4,
 "nbformat_minor": 4
}
